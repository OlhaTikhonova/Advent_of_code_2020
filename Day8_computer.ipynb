{
 "cells": [
  {
   "cell_type": "markdown",
   "metadata": {},
   "source": [
    "--- Day 8: Handheld Halting ---\n",
    "Your flight to the major airline hub reaches cruising altitude without incident. While you consider checking the in-flight menu for one of those drinks that come with a little umbrella, you are interrupted by the kid sitting next to you.\n",
    "\n",
    "Their handheld game console won't turn on! They ask if you can take a look.\n",
    "\n",
    "You narrow the problem down to a strange infinite loop in the boot code (your puzzle input) of the device. You should be able to fix it, but first you need to be able to run the code in isolation.\n",
    "\n",
    "The boot code is represented as a text file with one instruction per line of text. Each instruction consists of an operation (acc, jmp, or nop) and an argument (a signed number like +4 or -20).\n",
    "\n",
    "acc increases or decreases a single global value called the accumulator by the value given in the argument. For example, acc +7 would increase the accumulator by 7. The accumulator starts at 0. After an acc instruction, the instruction immediately below it is executed next.\n",
    "jmp jumps to a new instruction relative to itself. The next instruction to execute is found using the argument as an offset from the jmp instruction; for example, jmp +2 would skip the next instruction, jmp +1 would continue to the instruction immediately below it, and jmp -20 would cause the instruction 20 lines above to be executed next.\n",
    "nop stands for No OPeration - it does nothing. The instruction immediately below it is executed next.\n",
    "\n",
    "This is an infinite loop: with this sequence of jumps, the program will run forever. The moment the program tries to run any instruction a second time, you know it will never terminate.\n",
    "\n",
    "Immediately before the program would run an instruction a second time, the value in the accumulator is 5.\n",
    "\n",
    "Run your copy of the boot code. Immediately before any instruction is executed a second time, what value is in the accumulator?\n",
    "\n",
    "\n",
    "--- Part Two ---\n",
    "After some careful analysis, you believe that exactly one instruction is corrupted.\n",
    "\n",
    "Somewhere in the program, either a jmp is supposed to be a nop, or a nop is supposed to be a jmp. (No acc instructions were harmed in the corruption of this boot code.)\n",
    "\n",
    "The program is supposed to terminate by attempting to execute an instruction immediately after the last instruction in the file. By changing exactly one jmp or nop, you can repair the boot code and make it terminate correctly.\n",
    "\n",
    "Fix the program so that it terminates normally by changing exactly one jmp (to nop) or nop (to jmp). What is the value of the accumulator after the program terminates?"
   ]
  },
  {
   "cell_type": "code",
   "execution_count": 49,
   "metadata": {},
   "outputs": [
    {
     "name": "stdout",
     "output_type": "stream",
     "text": [
      "1654\n"
     ]
    }
   ],
   "source": [
    "#Part1\n",
    "input_data=open('input_D8.txt','r')\n",
    "input_op=input_data.read().strip().split('\\n')\n",
    "input_data.close()\n",
    "\n",
    "op_list=[]\n",
    "for op in input_op:\n",
    "    first_split=op.split()\n",
    "    plus_minus=first_split[1][0]\n",
    "    value=int(first_split[1][1:])\n",
    "    oper=first_split[0]\n",
    "    op_list.append([oper,plus_minus,value])\n",
    "\n",
    "\n",
    "accumulator=0\n",
    "index = 0\n",
    "index_list=[]\n",
    "while index not in index_list:\n",
    "    operation =  op_list[index]\n",
    "    index_list.append(index)\n",
    "   \n",
    "    if operation[0]=='nop':\n",
    "        index+=1\n",
    "    elif operation[0]=='acc':\n",
    "        index+=1\n",
    "        \n",
    "        if operation[1]=='+':\n",
    "            accumulator+=operation[2]\n",
    "        else:\n",
    "            accumulator-=operation[2]\n",
    "    elif operation[0]=='jmp':\n",
    "        if operation[1]=='+':\n",
    "            index+=operation[2]\n",
    "        else:\n",
    "            index-=operation[2]\n",
    "        \n",
    "print(accumulator)"
   ]
  },
  {
   "cell_type": "code",
   "execution_count": 48,
   "metadata": {},
   "outputs": [
    {
     "name": "stdout",
     "output_type": "stream",
     "text": [
      "833\n"
     ]
    }
   ],
   "source": [
    "#Part2\n",
    "import copy\n",
    "input_data=open('input_D8.txt','r')\n",
    "input_op=input_data.read().strip().split('\\n')\n",
    "input_data.close()\n",
    "\n",
    "op_list=[]\n",
    "for op in input_op:\n",
    "    first_split=op.split()\n",
    "    plus_minus=first_split[1][0]\n",
    "    value=int(first_split[1][1:])\n",
    "    oper=first_split[0]\n",
    "    op_list.append([oper,plus_minus,value])\n",
    "\n",
    "\n",
    "\n",
    "replace_positions=[]\n",
    "for index in range(len(op_list)):\n",
    "    \n",
    "    if op_list[index][0]=='nop':\n",
    "        replace_positions.append(index)\n",
    "    elif op_list[index][0]=='jmp':\n",
    "        replace_positions.append(index)\n",
    "\n",
    "index=0\n",
    "for item in replace_positions:\n",
    "    op_list_new=copy.deepcopy(op_list)\n",
    "    accumulator=0\n",
    "    index = 0\n",
    "    index_list=[]\n",
    "    \n",
    "    if op_list_new[item][0]=='nop':\n",
    "        op_list_new[item][0]='jmp'\n",
    "    elif op_list_new[item][0]=='jmp':\n",
    "        op_list_new[item][0]='nop'\n",
    "\n",
    "    while index not in index_list:\n",
    "        if index>=len(op_list):\n",
    "            print(accumulator)\n",
    "            break\n",
    "        operation =  op_list_new[index]\n",
    "        index_list.append(index)\n",
    "        \n",
    "        if operation[0]=='nop':\n",
    "            index+=1\n",
    "        elif operation[0]=='acc':\n",
    "            index+=1\n",
    "\n",
    "            if operation[1]=='+':\n",
    "                accumulator+=operation[2]\n",
    "            else:\n",
    "                accumulator-=operation[2]\n",
    "        elif operation[0]=='jmp':\n",
    "            if operation[1]=='+':\n",
    "                index+=operation[2]\n",
    "            else:\n",
    "                index-=operation[2]\n",
    "    \n"
   ]
  },
  {
   "cell_type": "code",
   "execution_count": null,
   "metadata": {},
   "outputs": [],
   "source": []
  }
 ],
 "metadata": {
  "kernelspec": {
   "display_name": "Python 3",
   "language": "python",
   "name": "python3"
  },
  "language_info": {
   "codemirror_mode": {
    "name": "ipython",
    "version": 3
   },
   "file_extension": ".py",
   "mimetype": "text/x-python",
   "name": "python",
   "nbconvert_exporter": "python",
   "pygments_lexer": "ipython3",
   "version": "3.9.0"
  }
 },
 "nbformat": 4,
 "nbformat_minor": 4
}
