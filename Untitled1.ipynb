{
 "cells": [
  {
   "cell_type": "code",
   "execution_count": null,
   "metadata": {},
   "outputs": [],
   "source": [
    "with open('input_D4.txt','r') as file:\n",
    "    file_content=file.readline().strip()\n",
    "   \n",
    "    while file_content:\n",
    "         print(file_content)\n",
    "        #for subs in file_content:\n",
    "            #[first_part,second_part]= subs.split(':')\n",
    "    "
   ]
  },
  {
   "cell_type": "code",
   "execution_count": null,
   "metadata": {},
   "outputs": [],
   "source": [
    "input_data1=open('input_advent_6.txt','r')\n",
    "input_numbers=input_data1.read().strip().split('\\n')\n",
    "input_data1.close()\n",
    "print(input_numbers)"
   ]
  },
  {
   "cell_type": "code",
   "execution_count": null,
   "metadata": {},
   "outputs": [],
   "source": [
    "from collections import defaultdict\n",
    "\n",
    "tree = defaultdict(list)\n",
    "for subs in input_numbers:\n",
    "    [first_part,second_part]= subs.split(')')\n",
    "    tree[first_part].append(second_part)    \n",
    "\n",
    "all_depth=0\n",
    "queue = [('COM',0)]\n",
    "while queue:\n",
    "    (to_search,depth)=queue.pop(0)\n",
    "    all_depth+=depth    \n",
    "    for child in tree[to_search]:\n",
    "        queue.append((child, depth + 1))\n",
    "        \n",
    "                   \n",
    "print(all_depth)"
   ]
  }
 ],
 "metadata": {
  "kernelspec": {
   "display_name": "Python 3",
   "language": "python",
   "name": "python3"
  },
  "language_info": {
   "codemirror_mode": {
    "name": "ipython",
    "version": 3
   },
   "file_extension": ".py",
   "mimetype": "text/x-python",
   "name": "python",
   "nbconvert_exporter": "python",
   "pygments_lexer": "ipython3",
   "version": "3.7.3"
  }
 },
 "nbformat": 4,
 "nbformat_minor": 2
}
