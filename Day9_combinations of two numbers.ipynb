{
 "cells": [
  {
   "cell_type": "code",
   "execution_count": 12,
   "metadata": {},
   "outputs": [],
   "source": [
    "#Part1\n",
    "input_data=open('input_D9.txt','r')\n",
    "input_num=input_data.read().strip().split('\\n')\n",
    "input_data.close()\n",
    "input_list=[int(num) for num in input_num]\n",
    "#print(input_list)"
   ]
  },
  {
   "cell_type": "code",
   "execution_count": 13,
   "metadata": {},
   "outputs": [
    {
     "name": "stdout",
     "output_type": "stream",
     "text": [
      "invalid 1309761972\n"
     ]
    }
   ],
   "source": [
    "import itertools\n",
    "temp_list=[]\n",
    "index=0\n",
    "preamble_list=[]\n",
    "while index<=(len(input_list)):\n",
    "    preamble_list= input_list[index:index+25]\n",
    "    \n",
    "    target=input_list[index+25]\n",
    "    temp_list=[]\n",
    "    #print('preamble_list:',preamble_list)\n",
    "    #print(target)\n",
    "    for numbers in itertools.combinations(preamble_list,2):\n",
    "        if sum(numbers)== target:\n",
    "            temp_list.append('valid')\n",
    "        else:\n",
    "            temp_list.append('invalid')\n",
    "        #print(temp_list)\n",
    "    #print(temp_list)\n",
    "    if any(t =='valid' for t in temp_list):\n",
    "        pass\n",
    "    else:\n",
    "        print('invalid',target)\n",
    "        break\n",
    "        \n",
    "    index+=1\n",
    "            \n",
    "\n",
    "             \n",
    "        \n",
    "        "
   ]
  },
  {
   "cell_type": "code",
   "execution_count": 21,
   "metadata": {},
   "outputs": [
    {
     "name": "stdout",
     "output_type": "stream",
     "text": [
      "177989832\n"
     ]
    }
   ],
   "source": [
    "#Part2\n",
    "input_data=open('input_D9.txt','r')\n",
    "input_num=input_data.read().strip().split('\\n')\n",
    "input_data.close()\n",
    "input_list=[int(num) for num in input_num]\n",
    "#print(input_list)\n",
    "target=1309761972\n",
    "\n",
    "for low in range(0,len(input_list)):\n",
    "    value=input_list[low]\n",
    "    for high in range(low+1,len(input_list)):\n",
    "        value+=input_list[high]\n",
    "        if value==target:\n",
    "            low_value=min(input_list[low:high+1])\n",
    "            high_value=max(input_list[low:high+1])\n",
    "            print(low_value+high_value)\n",
    "            #print(low_value,high_value)\n",
    "        elif value>target:\n",
    "            break\n",
    "        "
   ]
  },
  {
   "cell_type": "code",
   "execution_count": 10,
   "metadata": {},
   "outputs": [
    {
     "name": "stdout",
     "output_type": "stream",
     "text": [
      "1 5\n"
     ]
    }
   ],
   "source": [
    "#Returns two elements from a list whose sum is a target variable --another way instead itertools\n",
    "x = [1,4,5,7,9,6,2]\n",
    "target = 6\n",
    "for i in x:\n",
    "    if i < target:\n",
    "        pair = int(target) - int(i)\n",
    "        if pair in x:\n",
    "            print (i,pair)\n",
    "            break"
   ]
  },
  {
   "cell_type": "code",
   "execution_count": null,
   "metadata": {},
   "outputs": [],
   "source": []
  }
 ],
 "metadata": {
  "kernelspec": {
   "display_name": "Python 3",
   "language": "python",
   "name": "python3"
  },
  "language_info": {
   "codemirror_mode": {
    "name": "ipython",
    "version": 3
   },
   "file_extension": ".py",
   "mimetype": "text/x-python",
   "name": "python",
   "nbconvert_exporter": "python",
   "pygments_lexer": "ipython3",
   "version": "3.9.0"
  }
 },
 "nbformat": 4,
 "nbformat_minor": 4
}
