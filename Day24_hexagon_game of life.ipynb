{
 "cells": [
  {
   "cell_type": "markdown",
   "metadata": {},
   "source": [
    "--- Day 24: Lobby Layout ---\n",
    "Your raft makes it to the tropical island; it turns out that the small crab was an excellent navigator. You make your way to the resort.\n",
    "\n",
    "As you enter the lobby, you discover a small problem: the floor is being renovated. You can't even reach the check-in desk until they've finished installing the new tile floor.\n",
    "\n",
    "The tiles are all hexagonal; they need to be arranged in a hex grid with a very specific color pattern. Not in the mood to wait, you offer to help figure out the pattern.\n",
    "\n",
    "The tiles are all white on one side and black on the other. They start with the white side facing up. The lobby is large enough to fit whatever pattern might need to appear there.\n",
    "\n",
    "A member of the renovation crew gives you a list of the tiles that need to be flipped over (your puzzle input). Each line in the list identifies a single tile that needs to be flipped by giving a series of steps starting from a reference tile in the very center of the room. (Every line starts from the same reference tile.)\n",
    "\n",
    "Because the tiles are hexagonal, every tile has six neighbors: east, southeast, southwest, west, northwest, and northeast. These directions are given in your list, respectively, as e, se, sw, w, nw, and ne. A tile is identified by a series of these directions with no delimiters; for example, esenee identifies the tile you land on if you start at the reference tile and then move one tile east, one tile southeast, one tile northeast, and one tile east.\n",
    "\n",
    "Each time a tile is identified, it flips from white to black or from black to white. Tiles might be flipped more than once. For example, a line like esew flips a tile immediately adjacent to the reference tile, and a line like nwwswee flips the reference tile itself.\n",
    "\n",
    "\n",
    "Go through the renovation crew's list and determine which tiles they need to flip. After all of the instructions have been followed, how many tiles are left with the black side up?\n",
    "\n",
    "\n",
    "--- Part Two ---\n",
    "The tile floor in the lobby is meant to be a living art exhibit. Every day, the tiles are all flipped according to the following rules:\n",
    "\n",
    "Any black tile with zero or more than 2 black tiles immediately adjacent to it is flipped to white.\n",
    "Any white tile with exactly 2 black tiles immediately adjacent to it is flipped to black.\n",
    "Here, tiles immediately adjacent means the six tiles directly touching the tile in question.\n",
    "\n",
    "The rules are applied simultaneously to every tile; put another way, it is first determined which tiles need to be flipped, then they are all flipped at the same time.\n",
    "\n",
    "\n",
    "How many tiles will be black after 100 days?"
   ]
  },
  {
   "cell_type": "code",
   "execution_count": 1,
   "metadata": {},
   "outputs": [],
   "source": [
    "#Part1 - Hexagon coordinates\n",
    "input_data=open('input_D24.txt','r')\n",
    "input_item=input_data.read().strip().split('\\n')\n",
    "input_data.close()\n",
    "input_list=[item for item in input_item]\n",
    "#print(input_list)"
   ]
  },
  {
   "cell_type": "code",
   "execution_count": 2,
   "metadata": {},
   "outputs": [
    {
     "name": "stdout",
     "output_type": "stream",
     "text": [
      "386\n"
     ]
    }
   ],
   "source": [
    "direction_list=[]\n",
    "dictionary_tiles={(0,0):'white'}\n",
    "\n",
    "for item in input_list:\n",
    "    (q,r)=(0,0)\n",
    "    while len(item)>0:\n",
    "        #print('item_left',item)\n",
    "        if item.startswith('e'):\n",
    "            item=item[1:]\n",
    "            q+=1\n",
    "            #print('coordinates of e: ',q,r)\n",
    "        elif item.startswith('se'):\n",
    "            item=item[2:]\n",
    "            q+=1\n",
    "            r-=1\n",
    "            #print('coordinates of se: ',q,r)\n",
    "        elif item.startswith('sw'):\n",
    "            item=item[2:]\n",
    "            r-=1\n",
    "            #print('coordinates of sw: ',q,r)\n",
    "        elif item.startswith('w'):\n",
    "            item=item[1:]\n",
    "            q-=1\n",
    "            #print('coordinates of w: ',q,r)\n",
    "        elif item.startswith('nw'):\n",
    "            item=item[2:]\n",
    "            q-=1\n",
    "            r+=1\n",
    "            #print('coordinates of nw: ',q,r)\n",
    "        elif item.startswith('ne'):\n",
    "            item=item[2:]\n",
    "            r+=1\n",
    "            #print('coordinates of ne: ',q,r)\n",
    "    #print('to dictionary',q,r)\n",
    "    if (q,r) not in dictionary_tiles:\n",
    "        dictionary_tiles[(q,r)]='black'\n",
    "    elif (q,r) in dictionary_tiles:\n",
    "        if dictionary_tiles[(q,r)]=='black':\n",
    "            dictionary_tiles[(q,r)]='white'\n",
    "        else:\n",
    "            dictionary_tiles[(q,r)]='black'\n",
    "    #print(dictionary_tiles)\n",
    "    \n",
    "    \n",
    "#print('final dic',dictionary_tiles)    \n",
    "canvas=set()\n",
    "count=0        \n",
    "for k,v in  dictionary_tiles.items():\n",
    "    if v=='black':\n",
    "        count+=1\n",
    "        canvas.add(k)\n",
    "print(count)\n",
    "#print(canvas)\n",
    "        "
   ]
  },
  {
   "cell_type": "code",
   "execution_count": 3,
   "metadata": {},
   "outputs": [
    {
     "name": "stdout",
     "output_type": "stream",
     "text": [
      "4214\n"
     ]
    }
   ],
   "source": [
    "#Part2 - Game of life\n",
    "def neighbours(p):\n",
    "    (q,r) = p\n",
    "    matrix=[-1,0,1]\n",
    "    return [((q+dq),(r+dr))\n",
    "           for dq in matrix \n",
    "           for dr in matrix\n",
    "           if not((dq ==0 and dr ==0) or (dq ==1 and dr ==1)or (dq ==-1 and dr ==-1))]\n",
    "\n",
    "def new_layout(canvas):\n",
    "    canvas_new= set()\n",
    "    candidats= set()\n",
    "    for p in canvas:\n",
    "        for i in neighbours(p):\n",
    "            candidats.add(i)\n",
    "    \n",
    "    for p in candidats:\n",
    "        count_black=0\n",
    "        for i in neighbours(p):\n",
    "            if i in canvas:\n",
    "                count_black+=1\n",
    "                \n",
    "     \n",
    "        if p not in canvas and count_black==2:\n",
    "            canvas_new.add(p) \n",
    "        elif p in canvas and (count_black==1 or count_black==2):\n",
    "            canvas_new.add(p)\n",
    "            \n",
    "    return canvas_new\n",
    "\n",
    "\n",
    "for cycle in range(100):\n",
    "    canvas=new_layout(canvas)\n",
    "    \n",
    "res=len(canvas)\n",
    "print(res)"
   ]
  },
  {
   "cell_type": "code",
   "execution_count": 4,
   "metadata": {},
   "outputs": [
    {
     "name": "stdout",
     "output_type": "stream",
     "text": [
      "[(-1, 0), (-1, 1), (0, -1), (0, 1), (1, -1), (1, 0)]\n"
     ]
    }
   ],
   "source": [
    "#test for necessary coordinates\n",
    "(q,r)=(0,0)\n",
    "matrix=[-1,0,1]\n",
    "print ([((q+dq),(r+dr)) for dq in matrix for dr in matrix if not((dq ==0 and dr ==0) or (dq ==1 and dr ==1)or (dq ==-1 and dr ==-1))])"
   ]
  },
  {
   "cell_type": "code",
   "execution_count": null,
   "metadata": {},
   "outputs": [],
   "source": []
  }
 ],
 "metadata": {
  "kernelspec": {
   "display_name": "Python 3",
   "language": "python",
   "name": "python3"
  },
  "language_info": {
   "codemirror_mode": {
    "name": "ipython",
    "version": 3
   },
   "file_extension": ".py",
   "mimetype": "text/x-python",
   "name": "python",
   "nbconvert_exporter": "python",
   "pygments_lexer": "ipython3",
   "version": "3.9.0"
  }
 },
 "nbformat": 4,
 "nbformat_minor": 4
}
