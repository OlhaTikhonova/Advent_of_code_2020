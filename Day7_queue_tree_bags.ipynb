{
 "cells": [
  {
   "cell_type": "markdown",
   "metadata": {},
   "source": [
    "--- Day 7: Handy Haversacks ---\n",
    "You land at the regional airport in time for your next flight. In fact, it looks like you'll even have time to grab some food: all flights are currently delayed due to issues in luggage processing.\n",
    "\n",
    "Due to recent aviation regulations, many rules (your puzzle input) are being enforced about bags and their contents; bags must be color-coded and must contain specific quantities of other color-coded bags. Apparently, nobody responsible for these regulations considered how long they would take to enforce!\n",
    "\n",
    "You have a shiny gold bag. If you wanted to carry it in at least one other bag, how many different bag colors would be valid for the outermost bag? (In other words: how many colors can, eventually, contain at least one shiny gold bag?)\n",
    "\n",
    "--- Part Two ---\n",
    "It's getting pretty expensive to fly these days - not because of ticket prices, but because of the ridiculous number of bags you need to buy!\n",
    "\n",
    "Of course, the actual rules have a small chance of going several levels deeper than this example; be sure to count all of the bags, even if the nesting becomes topologically impractical!\n",
    "\n",
    "How many individual bags are required inside your single shiny gold bag?"
   ]
  },
  {
   "cell_type": "code",
   "execution_count": 1,
   "metadata": {},
   "outputs": [],
   "source": [
    "#Part1\n",
    "oneBag=[]\n",
    "input_data=open('input_D7.txt','r')\n",
    "input_bags=input_data.read().strip().split('.\\n')\n",
    "input_data.close()\n",
    "#print(input_bags)"
   ]
  },
  {
   "cell_type": "code",
   "execution_count": 2,
   "metadata": {},
   "outputs": [],
   "source": [
    "from collections import defaultdict\n",
    "\n",
    "Bags_all = defaultdict(list)\n",
    "InsideBags=[]\n",
    "for bag in input_bags:\n",
    "    bag_indexes= [i for i in range(len(bag)) if bag.startswith('bag', i)]\n",
    "    Bags_all[bag[:bag_indexes[0]-1]]\n",
    "    digit_indexes=[i for i, c in enumerate(bag) if c.isdigit()]\n",
    "\n",
    "    for index in range(len(digit_indexes)):\n",
    "        InsideBags=(bag[digit_indexes[index]+2:bag_indexes[index+1]-1]) \n",
    "  \n",
    "        Bags_all[bag[:bag_indexes[0]-1]].append(InsideBags)\n"
   ]
  },
  {
   "cell_type": "code",
   "execution_count": 3,
   "metadata": {},
   "outputs": [
    {
     "name": "stdout",
     "output_type": "stream",
     "text": [
      "121\n"
     ]
    }
   ],
   "source": [
    "seen = set()\n",
    "num_bagsColor=0\n",
    "KeyContainBag=[]\n",
    "for key,values in Bags_all.items():\n",
    "    if 'shiny gold' in values:\n",
    "        num_bagsColor+=1\n",
    "        KeyContainBag.append(key)\n",
    "        seen.add(key)\n",
    "\n",
    "while KeyContainBag:\n",
    "    to_search=KeyContainBag.pop(0)\n",
    "\n",
    "    \n",
    "    for key, values in Bags_all.items():\n",
    "        if to_search in values:\n",
    "            if key not in seen:\n",
    "                num_bagsColor+=1\n",
    "                KeyContainBag.append(key)\n",
    "                seen.add(key)\n",
    "                \n",
    "print(num_bagsColor)"
   ]
  },
  {
   "cell_type": "code",
   "execution_count": 76,
   "metadata": {},
   "outputs": [],
   "source": [
    "#Part2\n",
    "oneBag=[]\n",
    "input_data=open('input_D7.txt','r')\n",
    "input_bags=input_data.read().strip().split('.\\n')\n",
    "input_data.close()\n",
    "from collections import defaultdict\n",
    "\n",
    "Bags_all = defaultdict(list)\n",
    "InsideBags=[]\n",
    "for bag in input_bags:\n",
    "    bag_indexes= [i for i in range(len(bag)) if bag.startswith('bag', i)]\n",
    "    Bags_all[bag[:bag_indexes[0]-1]]\n",
    "    digit_indexes=[i for i, c in enumerate(bag) if c.isdigit()]\n",
    "    for index in range(len(digit_indexes)):\n",
    "        InsideBags=(bag[digit_indexes[index]+2:bag_indexes[index+1]-1]) \n",
    "        Bags_all[bag[:bag_indexes[0]-1]].append([InsideBags,bag[digit_indexes[index]]])\n"
   ]
  },
  {
   "cell_type": "code",
   "execution_count": 77,
   "metadata": {},
   "outputs": [
    {
     "name": "stdout",
     "output_type": "stream",
     "text": [
      "3805\n"
     ]
    }
   ],
   "source": [
    "count=0\n",
    "All_InShiny=[]\n",
    "KeyContainBag=[['shiny gold',1]]\n",
    "while KeyContainBag:\n",
    "    to_search=KeyContainBag.pop(0)\n",
    "    if to_search[0] in Bags_all:\n",
    "        values=Bags_all.get(to_search[0])\n",
    "        \n",
    "        for item in values:\n",
    "            n=int(to_search[1])*int(item[1])\n",
    "            KeyContainBag.append([item[0],n])\n",
    "            count+=n\n",
    "\n",
    "               \n",
    "print(count)   \n"
   ]
  },
  {
   "cell_type": "code",
   "execution_count": null,
   "metadata": {},
   "outputs": [],
   "source": []
  }
 ],
 "metadata": {
  "kernelspec": {
   "display_name": "Python 3",
   "language": "python",
   "name": "python3"
  },
  "language_info": {
   "codemirror_mode": {
    "name": "ipython",
    "version": 3
   },
   "file_extension": ".py",
   "mimetype": "text/x-python",
   "name": "python",
   "nbconvert_exporter": "python",
   "pygments_lexer": "ipython3",
   "version": "3.9.0"
  }
 },
 "nbformat": 4,
 "nbformat_minor": 4
}
