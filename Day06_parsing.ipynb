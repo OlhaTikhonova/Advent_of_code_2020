{
 "cells": [
  {
   "cell_type": "markdown",
   "metadata": {},
   "source": [
    "--- Day 6: Custom Customs ---\n",
    "As your flight approaches the regional airport where you'll switch to a much larger plane, customs declaration forms are distributed to the passengers.\n",
    "\n",
    "The form asks a series of 26 yes-or-no questions marked a through z. All you need to do is identify the questions for which anyone in your group answers \"yes\". Since your group is just you, this doesn't take very long.\n",
    "\n",
    "However, the person sitting next to you seems to be experiencing a language barrier and asks if you can help. For each of the people in their group, you write down the questions for which they answer \"yes\", one per line. For example:\n",
    "\n",
    "abcx\n",
    "abcy\n",
    "abcz\n",
    "In this group, there are 6 questions to which anyone answered \"yes\": a, b, c, x, y, and z. (Duplicate answers to the same question don't count extra; each question counts at most once.)\n",
    "\n",
    "Another group asks for your help, then another, and eventually you've collected answers from every group on the plane (your puzzle input). Each group's answers are separated by a blank line, and within each group, each person's answers are on a single line. \n",
    "\n",
    "For each group, count the number of questions to which anyone answered \"yes\". What is the sum of those counts?\n",
    "\n",
    "--- Part Two ---\n",
    "As you finish the last group's customs declaration, you notice that you misread one word in the instructions:\n",
    "\n",
    "You don't need to identify the questions to which anyone answered \"yes\"; you need to identify the questions to which everyone answered \"yes\"!\n",
    "\n",
    "For each group, count the number of questions to which everyone answered \"yes\". What is the sum of those counts?"
   ]
  },
  {
   "cell_type": "code",
   "execution_count": 1,
   "metadata": {},
   "outputs": [
    {
     "name": "stdout",
     "output_type": "stream",
     "text": [
      "6161\n"
     ]
    }
   ],
   "source": [
    "#Part1\n",
    "input_data=open('input_D6.txt','r')\n",
    "input_answers=input_data.read().strip().split('\\n')\n",
    "input_data.close()\n",
    "input_answers.append('')\n",
    "\n",
    "answers=[]\n",
    "count=0\n",
    "\n",
    "unique_answers=[]\n",
    "\n",
    "while '' in input_answers:\n",
    "    index = input_answers.index('')\n",
    "    answers.extend(input_answers[:index])\n",
    "    for ans in answers:\n",
    "        for let in ans:\n",
    "            unique_answers.append(let)\n",
    "    count+=len(set(unique_answers))\n",
    "    unique_answers=[]\n",
    "    del input_answers[:index+1]\n",
    "    answers=[]\n",
    "    \n",
    "\n",
    "print(count)"
   ]
  },
  {
   "cell_type": "code",
   "execution_count": 2,
   "metadata": {},
   "outputs": [
    {
     "name": "stdout",
     "output_type": "stream",
     "text": [
      "2971\n"
     ]
    }
   ],
   "source": [
    "#Part2\n",
    "input_data=open('input_D6.txt','r')\n",
    "input_answers=input_data.read().strip().split('\\n')\n",
    "input_data.close()\n",
    "input_answers.append('')\n",
    "answers=[]\n",
    "count=0\n",
    "chars = \"abcdefghijklmnopqrstuvwxyz\"\n",
    "\n",
    "unique_answers=[]\n",
    "\n",
    "while '' in input_answers:\n",
    "    index = input_answers.index('')\n",
    "    answers.extend(input_answers[:index])\n",
    "   \n",
    "    numberOfPeople=len(answers)\n",
    "    all_answers=','.join(answers)\n",
    "    for char in chars:\n",
    "        repeated = all_answers.count(char)\n",
    "        if repeated == numberOfPeople:\n",
    "            count+=1\n",
    "    del input_answers[:index+1]\n",
    "    answers=[]\n",
    "    \n",
    "\n",
    "print(count)\n"
   ]
  },
  {
   "cell_type": "code",
   "execution_count": null,
   "metadata": {},
   "outputs": [],
   "source": []
  }
 ],
 "metadata": {
  "kernelspec": {
   "display_name": "Python 3",
   "language": "python",
   "name": "python3"
  },
  "language_info": {
   "codemirror_mode": {
    "name": "ipython",
    "version": 3
   },
   "file_extension": ".py",
   "mimetype": "text/x-python",
   "name": "python",
   "nbconvert_exporter": "python",
   "pygments_lexer": "ipython3",
   "version": "3.9.0"
  }
 },
 "nbformat": 4,
 "nbformat_minor": 4
}
