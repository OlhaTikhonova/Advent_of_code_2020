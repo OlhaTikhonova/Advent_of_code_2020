{
 "cells": [
  {
   "cell_type": "code",
   "execution_count": 1,
   "metadata": {},
   "outputs": [
    {
     "name": "stdout",
     "output_type": "stream",
     "text": [
      "Numbers:  201 1819\n",
      "Sum:  2020\n",
      "Multiply_Part1:  365619\n",
      "Numbers:  348 971 701\n",
      "Sum:  2020\n",
      "Multiply_Part2:  236873508\n"
     ]
    }
   ],
   "source": [
    "import csv\n",
    "\n",
    "list_num=[]\n",
    "with open (\"input_D1.csv\", 'r', encoding='utf-8-sig') as fl:\n",
    "    rows = csv.DictReader(fl)\n",
    "    for row in rows:\n",
    "        num = row.get('Num')\n",
    "        list_num.append(int(num))\n",
    "\n",
    "for i in range(len(list_num)):\n",
    "    try:\n",
    "        \n",
    "        for k in range (len(list_num)):\n",
    "            if list_num[i]+list_num[k] == 2020:\n",
    "                print('Numbers: ', list_num[i],list_num[k] )\n",
    "                print('Sum: ',list_num[i]+list_num[k] )\n",
    "                print('Multiply_Part1: ',list_num[i]*list_num[k])\n",
    "                raise StopIteration\n",
    "    except StopIteration:\n",
    "        break\n",
    "            \n",
    "for i in range(len(list_num)):\n",
    "    try:\n",
    "        for k in range (len(list_num)):\n",
    "            for p in range (len(list_num)):\n",
    "                if list_num[i]+list_num[p] +list_num[k]== 2020:\n",
    "                    print('Numbers: ', list_num[i],list_num[p] ,list_num[k])\n",
    "                    print('Sum: ',list_num[i]+list_num[p] +list_num[k])\n",
    "                    print('Multiply_Part2: ',list_num[i]*list_num[p] *list_num[k])\n",
    "                    raise StopIteration\n",
    "    except StopIteration:\n",
    "        break"
   ]
  },
  {
   "cell_type": "code",
   "execution_count": null,
   "metadata": {},
   "outputs": [],
   "source": []
  }
 ],
 "metadata": {
  "kernelspec": {
   "display_name": "Python 3",
   "language": "python",
   "name": "python3"
  },
  "language_info": {
   "codemirror_mode": {
    "name": "ipython",
    "version": 3
   },
   "file_extension": ".py",
   "mimetype": "text/x-python",
   "name": "python",
   "nbconvert_exporter": "python",
   "pygments_lexer": "ipython3",
   "version": "3.7.3"
  }
 },
 "nbformat": 4,
 "nbformat_minor": 2
}
