{
 "cells": [
  {
   "cell_type": "code",
   "execution_count": 1,
   "metadata": {},
   "outputs": [
    {
     "name": "stdout",
     "output_type": "stream",
     "text": [
      "[13, 17, 19, 23, 29, 37, 41, 641, 661]\n"
     ]
    }
   ],
   "source": [
    "#Part1\n",
    "my_arrival=1006697\n",
    "bus_id='13,x,x,41,x,x,x,x,x,x,x,x,x,641,x,x,x,x,x,x,x,x,x,x,x,19,x,x,x,x,17,x,x,x,x,x,x,x,x,x,x,x,29,x,661,x,x,x,x,x,37,x,x,x,x,x,x,x,x,x,x,x,x,x,x,x,x,23'\n",
    "bus_ids=bus_id.split(',')\n",
    "bus_IDs=[int(i) for i in bus_ids if i.isdigit()]\n",
    "print(sorted(bus_IDs))"
   ]
  },
  {
   "cell_type": "code",
   "execution_count": 2,
   "metadata": {},
   "outputs": [
    {
     "name": "stderr",
     "output_type": "stream",
     "text": [
      "IOPub data rate exceeded.\n",
      "The notebook server will temporarily stop sending output\n",
      "to the client in order to avoid crashing it.\n",
      "To change this limit, set the config variable\n",
      "`--NotebookApp.iopub_data_rate_limit`.\n",
      "\n",
      "Current values:\n",
      "NotebookApp.iopub_data_rate_limit=1000000.0 (bytes/sec)\n",
      "NotebookApp.rate_limit_window=3.0 (secs)\n",
      "\n"
     ]
    }
   ],
   "source": [
    "list_of_minutes=[]\n",
    "for ids in sorted(bus_IDs):\n",
    "    time=0\n",
    "    while time<=my_arrival+ids:\n",
    "        time+=ids\n",
    "        list_of_minutes.append([time,ids])\n",
    "print(list_of_minutes)"
   ]
  },
  {
   "cell_type": "code",
   "execution_count": 3,
   "metadata": {},
   "outputs": [
    {
     "name": "stdout",
     "output_type": "stream",
     "text": [
      "defaultdict(<class 'list'>, {13: [1006707, 1006720], 17: [1006706, 1006723], 19: [1006715, 1006734], 23: [1006710, 1006733], 29: [1006706, 1006735], 37: [1006733, 1006770], 41: [1006714, 1006755], 641: [1007011, 1007652], 661: [1006703, 1007364]})\n"
     ]
    }
   ],
   "source": [
    "import collections\n",
    "list_of_minutes=collections.defaultdict(list)\n",
    "for ids in sorted(bus_IDs):\n",
    "    time=0\n",
    "    while time<=my_arrival+ids:\n",
    "        time+=ids\n",
    "        if time>=my_arrival:\n",
    "            list_of_minutes[ids].append(time)\n",
    "print(list_of_minutes)"
   ]
  },
  {
   "cell_type": "code",
   "execution_count": 4,
   "metadata": {},
   "outputs": [
    {
     "name": "stdout",
     "output_type": "stream",
     "text": [
      "661\n",
      "1006703\n",
      "3966\n"
     ]
    }
   ],
   "source": [
    "ID_closest=min(list_of_minutes, key=lambda k: list_of_minutes[k])\n",
    "print(ID_closest)\n",
    "departure=list_of_minutes[ID_closest][0]\n",
    "print(departure)\n",
    "waiting_T=departure-my_arrival\n",
    "result=waiting_T*ID_closest\n",
    "print(result)"
   ]
  },
  {
   "cell_type": "code",
   "execution_count": 29,
   "metadata": {},
   "outputs": [
    {
     "name": "stdout",
     "output_type": "stream",
     "text": [
      "['7', '13', 'x', 'x', '59', 'x', '31', '19']\n"
     ]
    }
   ],
   "source": [
    "#Part2_test\n",
    "bus_id='7,13,x,x,59,x,31,19'\n",
    "bus_ids=bus_id.split(',')\n",
    "print(bus_ids)"
   ]
  },
  {
   "cell_type": "code",
   "execution_count": 30,
   "metadata": {},
   "outputs": [
    {
     "name": "stdout",
     "output_type": "stream",
     "text": [
      "[[7, 0], [13, 1], [59, 4], [31, 6], [19, 7]]\n"
     ]
    }
   ],
   "source": [
    "offset_list=[]\n",
    "for item in range(len(bus_ids)):\n",
    "    if bus_ids[item].isdigit():\n",
    "        offset_list.append([int(bus_ids[item]),item])\n",
    "print(offset_list)"
   ]
  },
  {
   "cell_type": "code",
   "execution_count": 31,
   "metadata": {},
   "outputs": [
    {
     "name": "stdout",
     "output_type": "stream",
     "text": [
      "defaultdict(<class 'list'>, {7: [1068774, 1068781, 1068788], 13: [1068782, 1068795, 1068808], 19: [1068788, 1068807, 1068826], 31: [1068787, 1068818, 1068849], 59: [1068785, 1068844, 1068903]})\n"
     ]
    }
   ],
   "source": [
    "import collections\n",
    "list_of_minutes=collections.defaultdict(list)\n",
    "for ids in sorted(bus_IDs):\n",
    "    time=0\n",
    "    while time<=1068773+2*ids:\n",
    "        time+=ids\n",
    "        if time>=1068773:\n",
    "            list_of_minutes[ids].append(time)\n",
    "print(list_of_minutes)"
   ]
  },
  {
   "cell_type": "code",
   "execution_count": 32,
   "metadata": {},
   "outputs": [],
   "source": [
    "offset_times = collections.defaultdict(list)\n",
    "for key, values in list_of_minutes.items():\n",
    "    for item in offset_list:\n",
    "        if item[0]==key:\n",
    "            for value in values:\n",
    "                offset_times[key].append(value-item[1])\n",
    "#print(offset_times)\n"
   ]
  },
  {
   "cell_type": "code",
   "execution_count": 24,
   "metadata": {},
   "outputs": [
    {
     "name": "stdout",
     "output_type": "stream",
     "text": [
      "{1068774: {7}}\n",
      "{1068774: {7}, 1068781: {7}}\n",
      "{1068774: {7}, 1068781: {7}, 1068788: {7}}\n",
      "{1068774: {7}, 1068781: {13, 7}, 1068788: {7}}\n",
      "{1068774: {7}, 1068781: {13, 7}, 1068788: {7}, 1068794: {13}}\n",
      "{1068774: {7}, 1068781: {13, 7}, 1068788: {7}, 1068794: {13}, 1068807: {13}}\n",
      "{1068774: {7}, 1068781: {19, 13, 7}, 1068788: {7}, 1068794: {13}, 1068807: {13}}\n",
      "{1068774: {7}, 1068781: {19, 13, 7}, 1068788: {7}, 1068794: {13}, 1068807: {13}, 1068800: {19}}\n",
      "{1068774: {7}, 1068781: {19, 13, 7}, 1068788: {7}, 1068794: {13}, 1068807: {13}, 1068800: {19}, 1068819: {19}}\n",
      "{1068774: {7}, 1068781: {19, 31, 13, 7}, 1068788: {7}, 1068794: {13}, 1068807: {13}, 1068800: {19}, 1068819: {19}}\n",
      "{1068774: {7}, 1068781: {19, 31, 13, 7}, 1068788: {7}, 1068794: {13}, 1068807: {13}, 1068800: {19}, 1068819: {19}, 1068812: {31}}\n",
      "{1068774: {7}, 1068781: {19, 31, 13, 7}, 1068788: {7}, 1068794: {13}, 1068807: {13}, 1068800: {19}, 1068819: {19}, 1068812: {31}, 1068843: {31}}\n",
      "{1068774: {7}, 1068781: {7, 13, 19, 59, 31}, 1068788: {7}, 1068794: {13}, 1068807: {13}, 1068800: {19}, 1068819: {19}, 1068812: {31}, 1068843: {31}}\n",
      "{1068774: {7}, 1068781: {7, 13, 19, 59, 31}, 1068788: {7}, 1068794: {13}, 1068807: {13}, 1068800: {19}, 1068819: {19}, 1068812: {31}, 1068843: {31}, 1068840: {59}}\n",
      "{1068774: {7}, 1068781: {7, 13, 19, 59, 31}, 1068788: {7}, 1068794: {13}, 1068807: {13}, 1068800: {19}, 1068819: {19}, 1068812: {31}, 1068843: {31}, 1068840: {59}, 1068899: {59}}\n",
      "[1068781]\n"
     ]
    }
   ],
   "source": [
    "rev_multidict = {}\n",
    "for key, values in offset_times.items():\n",
    "    for item in offset_list:\n",
    "        if item[0]==key:\n",
    "            for value in values:\n",
    "                rev_multidict.setdefault(value, set()).add(key)\n",
    "                #print(rev_multidict)\n",
    "timestamp=[key for key, values in rev_multidict.items() if len(values) >= len(offset_list)]\n",
    "print(timestamp)"
   ]
  },
  {
   "cell_type": "code",
   "execution_count": 53,
   "metadata": {},
   "outputs": [
    {
     "name": "stdout",
     "output_type": "stream",
     "text": [
      "['13', 'x', 'x', '41', 'x', 'x', 'x', 'x', 'x', 'x', 'x', 'x', 'x', '641', 'x', 'x', 'x', 'x', 'x', 'x', 'x', 'x', 'x', 'x', 'x', '19', 'x', 'x', 'x', 'x', '17', 'x', 'x', 'x', 'x', 'x', 'x', 'x', 'x', 'x', 'x', 'x', '29', 'x', '661', 'x', 'x', 'x', 'x', 'x', '37', 'x', 'x', 'x', 'x', 'x', 'x', 'x', 'x', 'x', 'x', 'x', 'x', 'x', 'x', 'x', 'x', '23']\n",
      "325 [533, 0]\n",
      "8320 [341653, 0]\n",
      "5474768 [6491407, 0]\n",
      "102845873 [110353919, 0]\n",
      "2530632091 [3200263651, 0]\n",
      "565777034667 [2115374273311, 0]\n",
      "17488771221155 [78268848112507, 0]\n",
      "800177252346225 [1800183506587661, 0]\n"
     ]
    }
   ],
   "source": [
    "#Part2_my\n",
    "bus_id=bus_id='13,x,x,41,x,x,x,x,x,x,x,x,x,641,x,x,x,x,x,x,x,x,x,x,x,19,x,x,x,x,17,x,x,x,x,x,x,x,x,x,x,x,29,x,661,x,x,x,x,x,37,x,x,x,x,x,x,x,x,x,x,x,x,x,x,x,x,23'\n",
    "bus_ids=bus_id.split(',')\n",
    "print(bus_ids)\n",
    "offset_list=[]\n",
    "for item in range(len(bus_ids)):\n",
    "    if bus_ids[item].isdigit():\n",
    "        offset_list.append([int(bus_ids[item]),item])\n",
    "first_bus=offset_list.pop(0)\n",
    "timestamp=0\n",
    "while offset_list:\n",
    "    second_bus=offset_list.pop(0)\n",
    "    while True:\n",
    "        timestamp+=first_bus[0]\n",
    "        if (timestamp + second_bus[1]) % second_bus[0]==0:\n",
    "            first_bus=[first_bus[0]*second_bus[0],0]\n",
    "            print(timestamp,first_bus)\n",
    "            break"
   ]
  },
  {
   "cell_type": "code",
   "execution_count": null,
   "metadata": {},
   "outputs": [],
   "source": []
  }
 ],
 "metadata": {
  "kernelspec": {
   "display_name": "Python 3",
   "language": "python",
   "name": "python3"
  },
  "language_info": {
   "codemirror_mode": {
    "name": "ipython",
    "version": 3
   },
   "file_extension": ".py",
   "mimetype": "text/x-python",
   "name": "python",
   "nbconvert_exporter": "python",
   "pygments_lexer": "ipython3",
   "version": "3.9.0"
  }
 },
 "nbformat": 4,
 "nbformat_minor": 4
}
