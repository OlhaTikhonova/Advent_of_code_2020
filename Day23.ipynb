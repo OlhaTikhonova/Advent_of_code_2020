{
 "cells": [
  {
   "cell_type": "markdown",
   "metadata": {},
   "source": [
    "--- Day 23: Crab Cups ---\n",
    "The small crab challenges you to a game! The crab is going to mix up some cups, and you have to predict where they'll end up.\n",
    "\n",
    "The cups will be arranged in a circle and labeled clockwise (your puzzle input). For example, if your labeling were 32415, there would be five cups in the circle; going clockwise around the circle from the first cup, the cups would be labeled 3, 2, 4, 1, 5, and then back to 3 again.\n",
    "\n",
    "Before the crab starts, it will designate the first cup in your list as the current cup. The crab is then going to do 100 moves.\n",
    "\n",
    "Each move, the crab does the following actions:\n",
    "\n",
    "The crab picks up the three cups that are immediately clockwise of the current cup. They are removed from the circle; cup spacing is adjusted as necessary to maintain the circle.\n",
    "The crab selects a destination cup: the cup with a label equal to the current cup's label minus one. If this would select one of the cups that was just picked up, the crab will keep subtracting one until it finds a cup that wasn't just picked up. If at any point in this process the value goes below the lowest value on any cup's label, it wraps around to the highest value on any cup's label instead.\n",
    "The crab places the cups it just picked up so that they are immediately clockwise of the destination cup. They keep the same order as when they were picked up.\n",
    "The crab selects a new current cup: the cup which is immediately clockwise of the current cup.\n",
    "Using your labeling, simulate 100 moves. What are the labels on the cups after cup 1?"
   ]
  },
  {
   "cell_type": "code",
   "execution_count": 54,
   "metadata": {},
   "outputs": [
    {
     "name": "stdout",
     "output_type": "stream",
     "text": [
      "cups:  [9, 3, 7, 4, 8, 2, 6, 1, 5]\n"
     ]
    }
   ],
   "source": [
    "#Part1\n",
    "input_num=[1,3,7,8,2,6,4,9,5]\n",
    "current_cup=input_num[0]\n",
    "\n",
    "for i in range(100):\n",
    "    #print('cups: ',input_num)\n",
    "    #print(\"current\",current_cup)\n",
    "    pick_up=input_num[(input_num.index(current_cup)+1):(input_num.index(current_cup)+4)]\n",
    "    \n",
    "    if len(pick_up)==3:\n",
    "        del input_num[(input_num.index(current_cup)+1):(input_num.index(current_cup)+4)]\n",
    "    elif len(pick_up)==2:\n",
    "        pick_up=(input_num[-2:])\n",
    "        pick_up.append(input_num[0])\n",
    "        del input_num[-2:]\n",
    "        del input_num[0]\n",
    "    elif len(pick_up)==1:\n",
    "        pick_up=(input_num[-1:])\n",
    "        pick_up.extend(input_num[0:2])\n",
    "        del input_num[-1:]\n",
    "        del input_num[0:2]\n",
    "    elif len(pick_up)==0:\n",
    "        pick_up=(input_num[0:3])\n",
    "        del input_num[0:3]\n",
    "    #print('pick_up: ',pick_up)\n",
    "    destination=current_cup-1\n",
    "    #print(destination,'des-1',current_cup,'cup')\n",
    "    while destination not in input_num:\n",
    "        destination-=1\n",
    "        if destination<min(input_num):\n",
    "            destination=max(input_num)\n",
    "    #print('destination',destination)\n",
    "    placed_index=input_num.index(destination)+1\n",
    "    #print('placed index',placed_index)\n",
    "    input_num[placed_index:placed_index] = pick_up\n",
    "    if input_num.index(current_cup)+1<len(input_num):\n",
    "        current_cup=input_num[input_num.index(current_cup)+1]\n",
    "    else:\n",
    "        current_cup=input_num[0]\n",
    "    #print('current',current_cup)\n",
    "    #print('pick_up: ',pick_up)\n",
    "print('cups: ',input_num)"
   ]
  },
  {
   "cell_type": "code",
   "execution_count": 55,
   "metadata": {},
   "outputs": [],
   "source": [
    "cups=[9, 3, 7, 4, 8, 2, 6, 1, 5]\n",
    "\n",
    "result=59374826"
   ]
  },
  {
   "cell_type": "code",
   "execution_count": null,
   "metadata": {},
   "outputs": [],
   "source": []
  }
 ],
 "metadata": {
  "kernelspec": {
   "display_name": "Python 3",
   "language": "python",
   "name": "python3"
  },
  "language_info": {
   "codemirror_mode": {
    "name": "ipython",
    "version": 3
   },
   "file_extension": ".py",
   "mimetype": "text/x-python",
   "name": "python",
   "nbconvert_exporter": "python",
   "pygments_lexer": "ipython3",
   "version": "3.9.0"
  }
 },
 "nbformat": 4,
 "nbformat_minor": 4
}
