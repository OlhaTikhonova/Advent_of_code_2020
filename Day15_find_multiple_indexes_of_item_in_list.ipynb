{
 "cells": [
  {
   "cell_type": "markdown",
   "metadata": {},
   "source": [
    "--- Day 15: Rambunctious Recitation ---\n",
    "You catch the airport shuttle and try to book a new flight to your vacation island. Due to the storm, all direct flights have been cancelled, but a route is available to get around the storm. You take it.\n",
    "\n",
    "While you wait for your flight, you decide to check in with the Elves back at the North Pole. They're playing a memory game and are ever so excited to explain the rules!\n",
    "\n",
    "In this game, the players take turns saying numbers. They begin by taking turns reading from a list of starting numbers (your puzzle input). Then, each turn consists of considering the most recently spoken number:\n",
    "\n",
    "If that was the first time the number has been spoken, the current player says 0.\n",
    "Otherwise, the number had been spoken before; the current player announces how many turns apart the number is from when it was previously spoken.\n",
    "So, after the starting numbers, each turn results in that player speaking aloud either 0 (if the last number is new) or an age (if the last number is a repeat).\n",
    "\n",
    "For example, suppose the starting numbers are 0,3,6:\n",
    "\n",
    "Turn 1: The 1st number spoken is a starting number, 0.\n",
    "Turn 2: The 2nd number spoken is a starting number, 3.\n",
    "Turn 3: The 3rd number spoken is a starting number, 6.\n",
    "Turn 4: Now, consider the last number spoken, 6. Since that was the first time the number had been spoken, the 4th number spoken is 0.\n",
    "Turn 5: Next, again consider the last number spoken, 0. Since it had been spoken before, the next number to speak is the difference between the turn number when it was last spoken (the previous turn, 4) and the turn number of the time it was most recently spoken before then (turn 1). Thus, the 5th number spoken is 4 - 1, 3.\n",
    "Turn 6: The last number spoken, 3 had also been spoken before, most recently on turns 5 and 2. So, the 6th number spoken is 5 - 2, 3.\n",
    "Turn 7: Since 3 was just spoken twice in a row, and the last two turns are 1 turn apart, the 7th number spoken is 1.\n",
    "Turn 8: Since 1 is new, the 8th number spoken is 0.\n",
    "Turn 9: 0 was last spoken on turns 8 and 4, so the 9th number spoken is the difference between them, 4.\n",
    "Turn 10: 4 is new, so the 10th number spoken is 0.\n",
    "(The game ends when the Elves get sick of playing or dinner is ready, whichever comes first.)\n",
    "\n",
    "Their question for you is: what will be the 2020th number spoken? In the example above, the 2020th number spoken will be 436.\n",
    "\n",
    "Here are a few more examples:\n",
    "\n",
    "Given the starting numbers 1,3,2, the 2020th number spoken is 1.\n",
    "Given the starting numbers 2,1,3, the 2020th number spoken is 10.\n",
    "Given the starting numbers 1,2,3, the 2020th number spoken is 27.\n",
    "Given the starting numbers 2,3,1, the 2020th number spoken is 78.\n",
    "Given the starting numbers 3,2,1, the 2020th number spoken is 438.\n",
    "Given the starting numbers 3,1,2, the 2020th number spoken is 1836.\n",
    "Given your starting numbers, what will be the 2020th number spoken?\n",
    "\n",
    "--- Part Two ---\n",
    "Impressed, the Elves issue you a challenge: determine the 30000000th number spoken. For example, given the same starting numbers as above:\n",
    "\n",
    "Given 0,3,6, the 30000000th number spoken is 175594.\n",
    "Given 1,3,2, the 30000000th number spoken is 2578.\n",
    "Given 2,1,3, the 30000000th number spoken is 3544142.\n",
    "Given 1,2,3, the 30000000th number spoken is 261214.\n",
    "Given 2,3,1, the 30000000th number spoken is 6895259.\n",
    "Given 3,2,1, the 30000000th number spoken is 18.\n",
    "Given 3,1,2, the 30000000th number spoken is 362.\n",
    "Given your starting numbers, what will be the 30000000th number spoken?\n",
    "\n",
    "Your puzzle input was 11,0,1,10,5,19."
   ]
  },
  {
   "cell_type": "code",
   "execution_count": 10,
   "metadata": {},
   "outputs": [
    {
     "name": "stdout",
     "output_type": "stream",
     "text": [
      "870\n"
     ]
    }
   ],
   "source": [
    "#Part1\n",
    "\n",
    "spoken=[11,0,1,10,5,19]\n",
    "turn_count=len(spoken)\n",
    "while turn_count<=2020:\n",
    "    last_spoken=spoken[-1]\n",
    "    indices_spoken=[i for i, x in enumerate(spoken) if x == last_spoken]\n",
    "    if len(indices_spoken)>1:\n",
    "        last_spoken_turn=indices_spoken[-1]+1\n",
    "        previous_spoken_turn=indices_spoken[-2]+1\n",
    "        new_num=last_spoken_turn-previous_spoken_turn\n",
    "        spoken.append(new_num)\n",
    "    else:\n",
    "        spoken.append(0)\n",
    "    turn_count+=1\n",
    "    \n",
    "print(new_num)\n",
    "         "
   ]
  },
  {
   "cell_type": "code",
   "execution_count": 12,
   "metadata": {},
   "outputs": [
    {
     "name": "stdout",
     "output_type": "stream",
     "text": [
      "9136\n"
     ]
    }
   ],
   "source": [
    "#spoken_indices={0:[1],3:[2],6:[3]}\n",
    "#spoken=[0,3,6]\n",
    "spoken_indices={11:[1],0:[2],1:[3],10:[4],5:[5],19:[6]}\n",
    "spoken=[11,0,1,10,5,19]\n",
    "turn_count=len(spoken)\n",
    "while turn_count<=30000000:\n",
    "    last_spoken=spoken[-1]\n",
    "    #print(last_spoken)\n",
    "    if last_spoken in spoken_indices:\n",
    "        if len(spoken_indices[last_spoken])>1:\n",
    "            #print((spoken_indices[last_spoken]),'value')\n",
    "            last_spoken_turn=turn_count\n",
    "            #print('last turn',last_spoken_turn)\n",
    "            previous_spoken_turn=spoken_indices[last_spoken][-2]\n",
    "            #print('previous',previous_spoken_turn)\n",
    "            new_num=last_spoken_turn-previous_spoken_turn\n",
    "            spoken.append(new_num)\n",
    "            #print('new_num',new_num)\n",
    "            if new_num not in spoken_indices:\n",
    "                spoken_indices[new_num]=[turn_count+1]\n",
    "                #print('dic:',spoken_indices)\n",
    "            else:\n",
    "                spoken_indices[new_num].append(turn_count+1)\n",
    "                #print('dic:',spoken_indices)\n",
    "        else:\n",
    "            spoken.append(0)\n",
    "            #print('list',spoken)\n",
    "            if 0 not in spoken_indices:\n",
    "                spoken_indices[0]=[turn_count+1]\n",
    "            else:\n",
    "                spoken_indices[0].append(turn_count+1)\n",
    "            #print('dic:',spoken_indices)\n",
    "    turn_count+=1\n",
    "for k,v in spoken_indices.items():\n",
    "    if 30000000 in v:\n",
    "        print(k)\n"
   ]
  },
  {
   "cell_type": "code",
   "execution_count": null,
   "metadata": {},
   "outputs": [],
   "source": []
  }
 ],
 "metadata": {
  "kernelspec": {
   "display_name": "Python 3",
   "language": "python",
   "name": "python3"
  },
  "language_info": {
   "codemirror_mode": {
    "name": "ipython",
    "version": 3
   },
   "file_extension": ".py",
   "mimetype": "text/x-python",
   "name": "python",
   "nbconvert_exporter": "python",
   "pygments_lexer": "ipython3",
   "version": "3.9.0"
  }
 },
 "nbformat": 4,
 "nbformat_minor": 4
}
