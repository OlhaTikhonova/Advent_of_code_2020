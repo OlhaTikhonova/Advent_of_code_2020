{
 "cells": [
  {
   "cell_type": "markdown",
   "metadata": {},
   "source": [
    "--- Day 3: Toboggan Trajectory ---\n",
    "With the toboggan login problems resolved, you set off toward the airport. While travel by toboggan might be easy, it's certainly not safe: there's very minimal steering and the area is covered in trees. You'll need to see which angles will take you near the fewest trees.\n",
    "\n",
    "Due to the local geology, trees in this area only grow on exact integer coordinates in a grid. You make a map (your puzzle input) of the open squares (.) and trees (#) you can see.\n",
    "These aren't the only trees, though; due to something you read about once involving arboreal genetics and biome stability, the same pattern repeats to the right many times.\n",
    "You start on the open square (.) in the top-left corner and need to reach the bottom (below the bottom-most row on your map).\n",
    "\n",
    "The toboggan can only follow a few specific slopes (you opted for a cheaper model that prefers rational numbers); start by counting all the trees you would encounter for the slope right 3, down 1:\n",
    "\n",
    "From your starting position at the top-left, check the position that is right 3 and down 1. Then, check the position that is right 3 and down 1 from there, and so on until you go past the bottom of the map.\n",
    "Starting at the top-left corner of your map and following a slope of right 3 and down 1, how many trees would you encounter?\n",
    "--- Part Two ---\n",
    "Time to check the rest of the slopes - you need to minimize the probability of a sudden arboreal stop, after all.\n",
    "\n",
    "Determine the number of trees you would encounter if, for each of the following slopes, you start at the top-left corner and traverse the map all the way to the bottom:\n",
    "\n",
    "Right 1, down 1.\n",
    "Right 3, down 1. (This is the slope you already checked.)\n",
    "Right 5, down 1.\n",
    "Right 7, down 1.\n",
    "Right 1, down 2.\n",
    "In the above example, these slopes would find 2, 7, 3, 4, and 2 tree(s) respectively; multiplied together, these produce the answer 336.\n",
    "\n",
    "What do you get if you multiply together the number of trees encountered on each of the listed slopes?"
   ]
  },
  {
   "cell_type": "code",
   "execution_count": 1,
   "metadata": {},
   "outputs": [],
   "source": [
    "lines=0\n",
    "symbols=0\n",
    "with open('input_D3.txt','r') as file:\n",
    "    (x,y)=(0,0)\n",
    "    canvas= set()\n",
    "    file_content=file.readline().strip()\n",
    "    while file_content:\n",
    "        lines+=1\n",
    "        for symbol in file_content:\n",
    "            symbols+=1\n",
    "            if symbol=='#':\n",
    "                canvas.add((x,y))\n",
    "            x+=1\n",
    "        y+=1\n",
    "        x=0\n",
    "        file_content=file.readline().strip()"
   ]
  },
  {
   "cell_type": "code",
   "execution_count": 2,
   "metadata": {},
   "outputs": [],
   "source": [
    "#print(lines)\n",
    "columns=symbols/lines\n",
    "#print(columns)"
   ]
  },
  {
   "cell_type": "code",
   "execution_count": 3,
   "metadata": {},
   "outputs": [
    {
     "name": "stdout",
     "output_type": "stream",
     "text": [
      "153\n"
     ]
    }
   ],
   "source": [
    "#Part1\n",
    "result=0\n",
    "(x,y)=(0,0)\n",
    "if (x,y) in canvas:\n",
    "        result+=1\n",
    "while y<=lines:\n",
    "    (x,y)=(x+3, y+1)\n",
    "    if x<=columns-1:\n",
    "        if (x,y) in canvas:\n",
    "            result+=1\n",
    "    else:\n",
    "        x=x-columns\n",
    "        if (x,y) in canvas:\n",
    "            result+=1\n",
    "print(result)"
   ]
  },
  {
   "cell_type": "code",
   "execution_count": 4,
   "metadata": {},
   "outputs": [
    {
     "name": "stdout",
     "output_type": "stream",
     "text": [
      "66\n"
     ]
    }
   ],
   "source": [
    "#Part2\n",
    "#Right 1, down 1\n",
    "result1=0\n",
    "(x,y)=(0,0)\n",
    "if (x,y) in canvas:\n",
    "        result1+=1\n",
    "while y<=lines:\n",
    "    (x,y)=(x+1, y+1)\n",
    "    if x<=columns-1:\n",
    "        if (x,y) in canvas:\n",
    "            result1+=1\n",
    "    else:\n",
    "        x=x-columns\n",
    "        if (x,y) in canvas:\n",
    "            result1+=1\n",
    "print(result1)"
   ]
  },
  {
   "cell_type": "code",
   "execution_count": 5,
   "metadata": {},
   "outputs": [
    {
     "name": "stdout",
     "output_type": "stream",
     "text": [
      "79\n"
     ]
    }
   ],
   "source": [
    "#Right 5, down 1\n",
    "result2=0\n",
    "(x,y)=(0,0)\n",
    "if (x,y) in canvas:\n",
    "        result2+=1\n",
    "while y<=lines:\n",
    "    (x,y)=(x+5, y+1)\n",
    "    if x<=columns-1:\n",
    "        if (x,y) in canvas:\n",
    "            result2+=1\n",
    "    else:\n",
    "        x=x-columns\n",
    "        if (x,y) in canvas:\n",
    "            result2+=1\n",
    "print(result2)"
   ]
  },
  {
   "cell_type": "code",
   "execution_count": 6,
   "metadata": {},
   "outputs": [
    {
     "name": "stdout",
     "output_type": "stream",
     "text": [
      "92\n"
     ]
    }
   ],
   "source": [
    "#Right 7, down 1\n",
    "result3=0\n",
    "(x,y)=(0,0)\n",
    "if (x,y) in canvas:\n",
    "        result3+=1\n",
    "while y<=lines:\n",
    "    (x,y)=(x+7, y+1)\n",
    "    if x<=columns-1:\n",
    "        if (x,y) in canvas:\n",
    "            result3+=1\n",
    "    else:\n",
    "        x=x-columns\n",
    "        if (x,y) in canvas:\n",
    "            result3+=1\n",
    "print(result3)"
   ]
  },
  {
   "cell_type": "code",
   "execution_count": 7,
   "metadata": {},
   "outputs": [
    {
     "name": "stdout",
     "output_type": "stream",
     "text": [
      "33\n"
     ]
    }
   ],
   "source": [
    "#Right 1, down 2\n",
    "result4=0\n",
    "(x,y)=(0,0)\n",
    "if (x,y) in canvas:\n",
    "        result4+=1\n",
    "while y<=lines:\n",
    "    (x,y)=(x+1, y+2)\n",
    "    if x<=columns-1:\n",
    "        if (x,y) in canvas:\n",
    "            result4+=1\n",
    "    else:\n",
    "        x=x-columns\n",
    "        if (x,y) in canvas:\n",
    "            result4+=1\n",
    "print(result4)"
   ]
  },
  {
   "cell_type": "code",
   "execution_count": 8,
   "metadata": {},
   "outputs": [],
   "source": [
    "final_result=result*result1*result2*result3*result4"
   ]
  },
  {
   "cell_type": "code",
   "execution_count": 9,
   "metadata": {},
   "outputs": [
    {
     "name": "stdout",
     "output_type": "stream",
     "text": [
      "2421944712\n"
     ]
    }
   ],
   "source": [
    "print(final_result)"
   ]
  },
  {
   "cell_type": "code",
   "execution_count": null,
   "metadata": {},
   "outputs": [],
   "source": []
  }
 ],
 "metadata": {
  "kernelspec": {
   "display_name": "Python 3",
   "language": "python",
   "name": "python3"
  },
  "language_info": {
   "codemirror_mode": {
    "name": "ipython",
    "version": 3
   },
   "file_extension": ".py",
   "mimetype": "text/x-python",
   "name": "python",
   "nbconvert_exporter": "python",
   "pygments_lexer": "ipython3",
   "version": "3.7.3"
  }
 },
 "nbformat": 4,
 "nbformat_minor": 2
}
