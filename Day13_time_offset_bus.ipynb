{
 "cells": [
  {
   "cell_type": "markdown",
   "metadata": {},
   "source": [
    "--- Day 13: Shuttle Search ---\n",
    "Your ferry can make it safely to a nearby port, but it won't get much further. When you call to book another ship, you discover that no ships embark from that port to your vacation island. You'll need to get from the port to the nearest airport.\n",
    "\n",
    "Fortunately, a shuttle bus service is available to bring you from the sea port to the airport! Each bus has an ID number that also indicates how often the bus leaves for the airport.\n",
    "\n",
    "Bus schedules are defined based on a timestamp that measures the number of minutes since some fixed reference point in the past. At timestamp 0, every bus simultaneously departed from the sea port. After that, each bus travels to the airport, then various other locations, and finally returns to the sea port to repeat its journey forever.\n",
    "\n",
    "The time this loop takes a particular bus is also its ID number: the bus with ID 5 departs from the sea port at timestamps 0, 5, 10, 15, and so on. The bus with ID 11 departs at 0, 11, 22, 33, and so on. If you are there when the bus departs, you can ride that bus to the airport!\n",
    "\n",
    "Your notes (your puzzle input) consist of two lines. The first line is your estimate of the earliest timestamp you could depart on a bus. The second line lists the bus IDs that are in service according to the shuttle company; entries that show x must be out of service, so you decide to ignore them.\n",
    "\n",
    "To save time once you arrive, your goal is to figure out the earliest bus you can take to the airport. (There will be exactly one such bus.)\n",
    "\n",
    "What is the ID of the earliest bus you can take to the airport multiplied by the number of minutes you'll need to wait for that bus?\n",
    "--- Part Two ---\n",
    "The shuttle company is running a contest: one gold coin for anyone that can find the earliest timestamp such that the first bus ID departs at that time and each subsequent listed bus ID departs at that subsequent minute. (The first line in your input is no longer relevant.)\n",
    "\n",
    "For example, suppose you have the same list of bus IDs as above:\n",
    "\n",
    "7,13,x,x,59,x,31,19\n",
    "An x in the schedule means there are no constraints on what bus IDs must depart at that time.\n",
    "\n",
    "This means you are looking for the earliest timestamp (called t) such that:\n",
    "\n",
    "Bus ID 7 departs at timestamp t.\n",
    "Bus ID 13 departs one minute after timestamp t.\n",
    "There are no requirements or restrictions on departures at two or three minutes after timestamp t.\n",
    "Bus ID 59 departs four minutes after timestamp t.\n",
    "There are no requirements or restrictions on departures at five minutes after timestamp t.\n",
    "Bus ID 31 departs six minutes after timestamp t.\n",
    "Bus ID 19 departs seven minutes after timestamp t.\n",
    "The only bus departures that matter are the listed bus IDs at their specific offsets from t. Those bus IDs can depart at other times, and other bus IDs can depart at those times. For example, in the list above, because bus ID 19 must depart seven minutes after the timestamp at which bus ID 7 departs, bus ID 7 will always also be departing with bus ID 19 at seven minutes after timestamp t.\n",
    "\n",
    "In this example, the earliest timestamp at which this occurs is 1068781.\n",
    "\n",
    "What is the earliest timestamp such that all of the listed bus IDs depart at offsets matching their positions in the list?"
   ]
  },
  {
   "cell_type": "code",
   "execution_count": 56,
   "metadata": {},
   "outputs": [
    {
     "name": "stdout",
     "output_type": "stream",
     "text": [
      "661\n",
      "1006703\n",
      "3966\n"
     ]
    }
   ],
   "source": [
    "#Part1\n",
    "my_arrival=1006697\n",
    "bus_id='13,x,x,41,x,x,x,x,x,x,x,x,x,641,x,x,x,x,x,x,x,x,x,x,x,19,x,x,x,x,17,x,x,x,x,x,x,x,x,x,x,x,29,x,661,x,x,x,x,x,37,x,x,x,x,x,x,x,x,x,x,x,x,x,x,x,x,23'\n",
    "bus_ids=bus_id.split(',')\n",
    "bus_IDs=[int(i) for i in bus_ids if i.isdigit()]\n",
    "#print(sorted(bus_IDs))\n",
    "list_of_minutes=[]\n",
    "for ids in sorted(bus_IDs):\n",
    "    time=0\n",
    "    while time<=my_arrival+ids:\n",
    "        time+=ids\n",
    "        list_of_minutes.append([time,ids])\n",
    "#print(list_of_minutes)\n",
    "import collections\n",
    "list_of_minutes=collections.defaultdict(list)\n",
    "for ids in sorted(bus_IDs):\n",
    "    time=0\n",
    "    while time<=my_arrival+ids:\n",
    "        time+=ids\n",
    "        if time>=my_arrival:\n",
    "            list_of_minutes[ids].append(time)\n",
    "#print(list_of_minutes)\n",
    "ID_closest=min(list_of_minutes, key=lambda k: list_of_minutes[k])\n",
    "print(ID_closest)\n",
    "departure=list_of_minutes[ID_closest][0]\n",
    "print(departure)\n",
    "waiting_T=departure-my_arrival\n",
    "result=waiting_T*ID_closest\n",
    "print(result)"
   ]
  },
  {
   "cell_type": "code",
   "execution_count": 57,
   "metadata": {},
   "outputs": [
    {
     "name": "stdout",
     "output_type": "stream",
     "text": [
      "325 [533, 0]\n",
      "8320 [341653, 0]\n",
      "5474768 [6491407, 0]\n",
      "102845873 [110353919, 0]\n",
      "2530632091 [3200263651, 0]\n",
      "565777034667 [2115374273311, 0]\n",
      "17488771221155 [78268848112507, 0]\n",
      "800177252346225 [1800183506587661, 0]\n"
     ]
    }
   ],
   "source": [
    "#Part2_my_SOLUTION\n",
    "bus_id=bus_id='13,x,x,41,x,x,x,x,x,x,x,x,x,641,x,x,x,x,x,x,x,x,x,x,x,19,x,x,x,x,17,x,x,x,x,x,x,x,x,x,x,x,29,x,661,x,x,x,x,x,37,x,x,x,x,x,x,x,x,x,x,x,x,x,x,x,x,23'\n",
    "bus_ids=bus_id.split(',')\n",
    "#print(bus_ids)\n",
    "offset_list=[]\n",
    "for item in range(len(bus_ids)):\n",
    "    if bus_ids[item].isdigit():\n",
    "        offset_list.append([int(bus_ids[item]),item])\n",
    "first_bus=offset_list.pop(0)\n",
    "timestamp=0\n",
    "while offset_list:\n",
    "    second_bus=offset_list.pop(0)\n",
    "    while True:\n",
    "        timestamp+=first_bus[0]\n",
    "        if (timestamp + second_bus[1]) % second_bus[0]==0:\n",
    "            first_bus=[first_bus[0]*second_bus[0],0]\n",
    "            print(timestamp,first_bus)\n",
    "            break"
   ]
  },
  {
   "cell_type": "code",
   "execution_count": null,
   "metadata": {},
   "outputs": [],
   "source": []
  }
 ],
 "metadata": {
  "kernelspec": {
   "display_name": "Python 3",
   "language": "python",
   "name": "python3"
  },
  "language_info": {
   "codemirror_mode": {
    "name": "ipython",
    "version": 3
   },
   "file_extension": ".py",
   "mimetype": "text/x-python",
   "name": "python",
   "nbconvert_exporter": "python",
   "pygments_lexer": "ipython3",
   "version": "3.9.0"
  }
 },
 "nbformat": 4,
 "nbformat_minor": 4
}
