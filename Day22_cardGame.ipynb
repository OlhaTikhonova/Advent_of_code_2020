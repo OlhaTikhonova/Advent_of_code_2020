{
 "cells": [
  {
   "cell_type": "code",
   "execution_count": 20,
   "metadata": {},
   "outputs": [
    {
     "name": "stdout",
     "output_type": "stream",
     "text": [
      "First_player:  [43, 36, 13, 11, 20, 25, 37, 38, 4, 18, 1, 8, 27, 23, 7, 22, 10, 5, 50, 40, 45, 26, 15, 32, 33]\n",
      "Second:  [21, 29, 12, 28, 46, 9, 44, 6, 16, 39, 19, 24, 17, 14, 47, 48, 42, 34, 31, 3, 41, 35, 2, 30, 49]\n",
      "First_player winner\n",
      "30780\n"
     ]
    }
   ],
   "source": [
    "#Part1\n",
    "input_data=open('input_D22.txt','r')\n",
    "input_num=input_data.read().split('\\n')\n",
    "input_data.close()\n",
    "#print(input_num)\n",
    "First_player=[]\n",
    "Second_player=[]\n",
    "for line in input_num[input_num.index('Player 1:')+1:input_num.index('Player 2:')-1]:\n",
    "    for element in [int(x) for x in line.split(',')]:\n",
    "        First_player.append(element)\n",
    "print('First_player: ',First_player)\n",
    "for line in input_num[input_num.index('Player 2:')+1:]:\n",
    "    for element in [int(x) for x in line.split(',')]:\n",
    "        Second_player.append(element)\n",
    "print('Second: ', Second_player)\n",
    "while First_player and Second_player:\n",
    "    card1=First_player.pop(0)\n",
    "    card2=Second_player.pop(0)\n",
    "    if card1>card2:\n",
    "        First_player.append(card1)\n",
    "        First_player.append(card2)\n",
    "    else:\n",
    "        Second_player.append(card2)\n",
    "        Second_player.append(card1)\n",
    "score=0        \n",
    "if len(First_player)>len(Second_player):\n",
    "    print('First_player winner')\n",
    "    for num in range(1,len(First_player)+1):\n",
    "        last_card=First_player.pop()\n",
    "        score+=last_card*num\n",
    "else:\n",
    "    print('Second_player winner')\n",
    "    for num in range(1,len(Second_player)+1):\n",
    "        last_card=Second_player.pop()\n",
    "        score+=last_card*num\n",
    "\n",
    "\n",
    "print(score)"
   ]
  },
  {
   "cell_type": "code",
   "execution_count": null,
   "metadata": {},
   "outputs": [],
   "source": []
  }
 ],
 "metadata": {
  "kernelspec": {
   "display_name": "Python 3",
   "language": "python",
   "name": "python3"
  },
  "language_info": {
   "codemirror_mode": {
    "name": "ipython",
    "version": 3
   },
   "file_extension": ".py",
   "mimetype": "text/x-python",
   "name": "python",
   "nbconvert_exporter": "python",
   "pygments_lexer": "ipython3",
   "version": "3.9.0"
  }
 },
 "nbformat": 4,
 "nbformat_minor": 4
}
