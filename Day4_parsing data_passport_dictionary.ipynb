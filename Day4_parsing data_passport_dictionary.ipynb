{
 "cells": [
  {
   "cell_type": "markdown",
   "metadata": {},
   "source": [
    "--- Day 4: Passport Processing ---\n",
    "You arrive at the airport only to realize that you grabbed your North Pole Credentials instead of your passport. While these documents are extremely similar, North Pole Credentials aren't issued by a country and therefore aren't actually valid documentation for travel in most of the world.\n",
    "\n",
    "It seems like you're not the only one having problems, though; a very long line has formed for the automatic passport scanners, and the delay could upset your travel itinerary.\n",
    "\n",
    "Due to some questionable network security, you realize you might be able to solve both of these problems at the same time.\n",
    "\n",
    "The automatic passport scanners are slow because they're having trouble detecting which passports have all required fields. The expected fields are as follows:\n",
    "\n",
    "byr (Birth Year)\n",
    "iyr (Issue Year)\n",
    "eyr (Expiration Year)\n",
    "hgt (Height)\n",
    "hcl (Hair Color)\n",
    "ecl (Eye Color)\n",
    "pid (Passport ID)\n",
    "cid (Country ID)\n",
    "Passport data is validated in batch files (your puzzle input). Each passport is represented as a sequence of key:value pairs separated by spaces or newlines. Passports are separated by blank lines.\n",
    "\n",
    "Count the number of valid passports - those that have all required fields. Treat cid as optional. In your batch file, how many passports are valid?\n",
    "\n",
    "--- Part Two ---\n",
    "The line is moving more quickly now, but you overhear airport security talking about how passports with invalid data are getting through. Better add some data validation, quick!\n",
    "\n",
    "You can continue to ignore the cid field, but each other field has strict rules about what values are valid for automatic validation:\n",
    "\n",
    "byr (Birth Year) - four digits; at least 1920 and at most 2002.\n",
    "iyr (Issue Year) - four digits; at least 2010 and at most 2020.\n",
    "eyr (Expiration Year) - four digits; at least 2020 and at most 2030.\n",
    "hgt (Height) - a number followed by either cm or in:\n",
    "If cm, the number must be at least 150 and at most 193.\n",
    "If in, the number must be at least 59 and at most 76.\n",
    "hcl (Hair Color) - a # followed by exactly six characters 0-9 or a-f.\n",
    "ecl (Eye Color) - exactly one of: amb blu brn gry grn hzl oth.\n",
    "pid (Passport ID) - a nine-digit number, including leading zeroes.\n",
    "cid (Country ID) - ignored, missing or not.\n",
    "Your job is to count the passports where all required fields are both present and valid according to the above rules. \n",
    "\n",
    "Count the number of valid passports - those that have all required fields and valid values. Continue to treat cid as optional. In your batch file, how many passports are valid?\n",
    "\n"
   ]
  },
  {
   "cell_type": "code",
   "execution_count": 87,
   "metadata": {},
   "outputs": [
    {
     "name": "stdout",
     "output_type": "stream",
     "text": [
      "210\n"
     ]
    }
   ],
   "source": [
    "#Part1\n",
    "input_data1=open('input_D4.txt','r')\n",
    "input_numbers=input_data1.read().strip().split('\\n')\n",
    "input_data1.close()\n",
    "#print(input_numbers)\n",
    "count=0\n",
    "#new_list =[]\n",
    "passport=[]\n",
    "\n",
    "while '' in input_numbers:\n",
    "    index = input_numbers.index('')\n",
    "    passport.extend(input_numbers[:index])\n",
    "    string=','.join(passport)\n",
    "    #print(string)\n",
    "    if 'byr' in string and 'iyr' in string and 'eyr' in string and 'hgt' in string and 'hcl' in string and 'ecl' in string and 'pid' in string:\n",
    "        count+=1\n",
    "    #new_list.extend(passport)\n",
    "    del input_numbers[:index+1]\n",
    "    passport=[]\n",
    "\n",
    "string1=','.join(input_numbers)\n",
    "if 'byr' in string1 and 'iyr' in string1 and 'eyr' in string1 and 'hgt' in string1 and 'hcl' in string1 and 'ecl' in string1 and 'pid' in string1:\n",
    "        count+=1\n",
    "print(count)"
   ]
  },
  {
   "cell_type": "code",
   "execution_count": 84,
   "metadata": {},
   "outputs": [
    {
     "name": "stdout",
     "output_type": "stream",
     "text": [
      "131\n"
     ]
    }
   ],
   "source": [
    "#Part2\n",
    "\n",
    "\n",
    "input_data1=open('input_D4.txt','r')\n",
    "input_numbers=input_data1.read().strip().split('\\n')\n",
    "input_data1.close()\n",
    "count=0\n",
    "one_pass=0\n",
    "\n",
    "passport=[]\n",
    "available_letters = [chr(item) for item in range(ord('a'), ord('f')+1)]\n",
    "\n",
    "while '' in input_numbers:\n",
    "    index = input_numbers.index('')\n",
    "    passport.extend(input_numbers[:index])\n",
    "    string=','.join(passport)\n",
    "    one_pass=0\n",
    "    if 'byr' in string and 'iyr' in string and 'eyr' in string and 'hgt' in string and 'hcl' in string and 'ecl' in string and 'pid' in string:\n",
    "        string=string.replace(\" \", \",\")\n",
    "        #print(string)\n",
    "        list_new = string.split(',')\n",
    "        #print(list_new)\n",
    "        for i in list_new:\n",
    "            [first_part,second_part]= i.split(':')\n",
    "            #print([first_part,second_part])\n",
    "            #data[first_part]=second_part\n",
    "            if first_part == 'byr' and len(second_part)==4 and int(second_part)<=2002 and int(second_part)>=1920:\n",
    "                one_pass+=1\n",
    "                #print('byr','yes')\n",
    "            elif first_part == 'iyr' and len(second_part)==4 and int(second_part)<=2020 and int(second_part)>=2010:\n",
    "                one_pass+=1\n",
    "                #print('iyr','yes')\n",
    "            elif first_part == 'eyr' and len(second_part)==4 and int(second_part)<=2030 and int(second_part)>=2020:\n",
    "                one_pass+=1\n",
    "                #print('eyr','yes')\n",
    "            elif first_part == 'hgt' and 'cm' in second_part:\n",
    "                second_part=second_part.replace('cm', '')\n",
    "                #print(second_part)\n",
    "                if  int(second_part)<=193 and int(second_part)>=150:\n",
    "                    one_pass+=1\n",
    "                    #print('hgt','yes')\n",
    "            elif first_part == 'hgt' and 'in' in second_part:\n",
    "                second_part=second_part.replace('in', '')\n",
    "                if  int(second_part)>=59 and int(second_part)<=76:\n",
    "                    one_pass+=1\n",
    "                    #print('hgt','yes')\n",
    "            elif first_part == 'hcl' and second_part.startswith('#') and len(second_part)==7:\n",
    "   \n",
    "                digits=''.join([n for n in second_part if n.isdigit()])\n",
    "                letters=''.join([n for n in second_part if n.isalpha()])\n",
    "                letters_list=[l for l in letters if l not in available_letters]\n",
    "                if len(letters_list)==0 and len(digits)+len(letters)==6:   \n",
    "                    one_pass+=1\n",
    "                    #print('hcl','yes')\n",
    "            elif first_part == 'ecl' and second_part=='amb':\n",
    "                one_pass+=1\n",
    "                #print('ecl', 'yes')\n",
    "            elif first_part == 'ecl' and second_part=='blu':\n",
    "                one_pass+=1\n",
    "                #print('ecl', 'yes')\n",
    "            elif first_part == 'ecl' and second_part=='brn':\n",
    "                one_pass+=1\n",
    "                #print('ecl', 'yes')\n",
    "            elif first_part == 'ecl' and second_part=='gry':\n",
    "                one_pass+=1\n",
    "                #print('ecl', 'yes')\n",
    "            elif first_part == 'ecl' and second_part=='grn':\n",
    "                one_pass+=1\n",
    "                #print('ecl', 'yes')\n",
    "            elif first_part == 'ecl' and second_part=='hzl':\n",
    "                one_pass+=1\n",
    "                #print('ecl', 'yes')\n",
    "            elif first_part == 'ecl' and second_part=='oth':\n",
    "                one_pass+=1\n",
    "                #print('ecl', 'yes')\n",
    "            elif first_part == 'pid' and len(second_part)==9 and second_part.isdigit():\n",
    "                one_pass+=1\n",
    "                #print('pid', 'yes')\n",
    "        #print(one_pass, 'one_pass')\n",
    "    if one_pass==7:\n",
    "        count+=1\n",
    "        \n",
    "        #print(count, 'count')\n",
    "    #valid.append(string)\n",
    "    del input_numbers[:index+1]\n",
    "    passport=[]\n",
    "    \n",
    "one_pass=0    \n",
    "#print(count)\n",
    "string1=','.join(input_numbers)\n",
    "string1=string1.replace(\" \", \",\")\n",
    "if 'byr' in string and 'iyr' in string and 'eyr' in string and 'hgt' in string and 'hcl' in string and 'ecl' in string and 'pid' in string:\n",
    "        string=string.replace(\" \", \",\")\n",
    "        #print(string)\n",
    "        list_new = string.split(',')\n",
    "        #print(list_new)\n",
    "        for i in list_new:\n",
    "            [first_part,second_part]= i.split(':')\n",
    "            #print([first_part,second_part])\n",
    "            #data[first_part]=second_part\n",
    "            if first_part == 'byr' and len(second_part)==4 and int(second_part)<=2002 and int(second_part)>=1920:\n",
    "                one_pass+=1\n",
    "                #print('byr','yes')\n",
    "            elif first_part == 'iyr' and len(second_part)==4 and int(second_part)<=2020 and int(second_part)>=2010:\n",
    "                one_pass+=1\n",
    "                #print('iyr','yes',one_pass)\n",
    "            elif first_part == 'eyr' and len(second_part)==4 and int(second_part)<=2030 and int(second_part)>=2020:\n",
    "                one_pass+=1\n",
    "            elif first_part == 'hgt' and 'cm' in second_part:\n",
    "                second_part=second_part.replace('cm', '')\n",
    "                if  int(second_part)<=193 and int(second_part)>=150:\n",
    "                    one_pass+=1\n",
    "            elif first_part == 'hgt' and 'in' in second_part:\n",
    "                second_part=second_part.replace('in', '')\n",
    "                if  int(second_part)<=59 and int(second_part)>=76:\n",
    "                    one_pass+=1\n",
    "            elif first_part == 'hcl' and second_part.startswith('#') and len(second_part)==7:\n",
    "   \n",
    "                digits=''.join([n for n in second_part if n.isdigit()])\n",
    "                letters=''.join([n for n in second_part if n.isalpha()])\n",
    "                letters_list=[l for l in letters if l not in available_letters]\n",
    "                if len(letters_list)==0 and len(digits)+len(letters)==6:   \n",
    "                    one_pass+=1\n",
    "                    \n",
    "            elif first_part == 'ecl' and second_part=='amb':\n",
    "                one_pass+=1\n",
    "                #print('ecl', 'yes')\n",
    "            elif first_part == 'ecl' and second_part=='blu':\n",
    "                one_pass+=1\n",
    "                #print('ecl', 'yes')\n",
    "            elif first_part == 'ecl' and second_part=='brn':\n",
    "                one_pass+=1\n",
    "                #print('ecl', 'yes')\n",
    "            elif first_part == 'ecl' and second_part=='gry':\n",
    "                one_pass+=1\n",
    "                #print('ecl', 'yes')\n",
    "            elif first_part == 'ecl' and second_part=='grn':\n",
    "                one_pass+=1\n",
    "                #print('ecl', 'yes')\n",
    "            elif first_part == 'ecl' and second_part=='hzl':\n",
    "                one_pass+=1\n",
    "                #print('ecl', 'yes')\n",
    "            elif first_part == 'ecl' and second_part=='oth':\n",
    "                one_pass+=1\n",
    "                #print('ecl', 'yes')\n",
    "            elif first_part == 'pid' and len(second_part)==9 and second_part.isdigit():\n",
    "                one_pass+=1\n",
    "                #print('pid', 'yes')\n",
    "        #print(one_pass)\n",
    "        if one_pass==7:\n",
    "            count+=1\n",
    "print(count)"
   ]
  },
  {
   "cell_type": "code",
   "execution_count": 30,
   "metadata": {},
   "outputs": [
    {
     "name": "stdout",
     "output_type": "stream",
     "text": [
      "['a', 'b', 'c', 'd', 'e', 'f']\n"
     ]
    }
   ],
   "source": [
    "#Test create available letters\n",
    "available_letters = [chr(item) for item in range(ord('a'), ord('f')+1)]\n",
    "    \n",
    "print(available_letters)"
   ]
  },
  {
   "cell_type": "code",
   "execution_count": 31,
   "metadata": {},
   "outputs": [
    {
     "name": "stdout",
     "output_type": "stream",
     "text": [
      "123\n"
     ]
    }
   ],
   "source": [
    "#test to parse and get just digits\n",
    "second_part='#123abc'\n",
    "digits=''.join([n for n in second_part if n.isdigit()])\n",
    "print(new)"
   ]
  },
  {
   "cell_type": "code",
   "execution_count": 47,
   "metadata": {},
   "outputs": [
    {
     "name": "stdout",
     "output_type": "stream",
     "text": [
      "['a', 'b', 'c', 'd', 'e']\n"
     ]
    }
   ],
   "source": [
    "#test to parse and get just letters\n",
    "second_part='#123abcde'\n",
    "letters=''.join([n for n in second_part if n.isalpha()])\n",
    "letters_list=[l for l in letters]\n",
    "print(letters_list)"
   ]
  },
  {
   "cell_type": "code",
   "execution_count": 71,
   "metadata": {},
   "outputs": [
    {
     "name": "stdout",
     "output_type": "stream",
     "text": [
      "yes\n"
     ]
    }
   ],
   "source": [
    "#test for HCL\n",
    "[first_part,second_part]=[\"hcl\",'#123abc']\n",
    "if first_part == 'hcl' and second_part.startswith('#') and len(second_part)==7:\n",
    "   \n",
    "    digits=''.join([n for n in second_part if n.isdigit()])\n",
    "    letters=''.join([n for n in second_part if n.isalpha()])\n",
    "    letters_list=[l for l in letters if l not in available_letters]\n",
    "    if len(letters_list)==0 and len(digits)+len(letters)==6:\n",
    "        print('yes')\n",
    "                "
   ]
  },
  {
   "cell_type": "code",
   "execution_count": null,
   "metadata": {},
   "outputs": [],
   "source": [
    "#Test for PID\n",
    "[first_part,second_part]=[\"hcl\",'#123abc']\n",
    "if first_part == 'pid' and len(second_part)==9 and second_part.isdigit():"
   ]
  }
 ],
 "metadata": {
  "kernelspec": {
   "display_name": "Python 3",
   "language": "python",
   "name": "python3"
  },
  "language_info": {
   "codemirror_mode": {
    "name": "ipython",
    "version": 3
   },
   "file_extension": ".py",
   "mimetype": "text/x-python",
   "name": "python",
   "nbconvert_exporter": "python",
   "pygments_lexer": "ipython3",
   "version": "3.7.3"
  }
 },
 "nbformat": 4,
 "nbformat_minor": 2
}
